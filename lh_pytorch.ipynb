{
 "cells": [
  {
   "cell_type": "code",
   "execution_count": 6,
   "metadata": {},
   "outputs": [],
   "source": [
    "import torch"
   ]
  },
  {
   "cell_type": "code",
   "execution_count": 7,
   "metadata": {},
   "outputs": [
    {
     "name": "stdout",
     "output_type": "stream",
     "text": [
      "Array Type: <built-in method type of Tensor object at 0x119cba990>\n",
      "Array Shape: torch.Size([4, 4])\n",
      "tensor([[ 0.0000e+00, -2.0000e+00,  4.3129e-12, -2.8643e-42],\n",
      "        [ 4.7339e+30,  2.9514e+29,  1.4607e-19,  1.8888e+31],\n",
      "        [ 3.1035e+27,  3.3460e-12,  1.4583e-19,  1.8888e+31],\n",
      "        [ 4.9656e+28,  7.9463e+08,  5.0944e-14,  3.6734e-40]])\n"
     ]
    }
   ],
   "source": [
    "x = torch.empty(4, 4)\n",
    "\n",
    "print(\"Array Type: {}\".format(x.type)) # type\n",
    "print(\"Array Shape: {}\".format(x.shape)) # shape\n",
    "print(x)"
   ]
  },
  {
   "cell_type": "code",
   "execution_count": 8,
   "metadata": {},
   "outputs": [
    {
     "name": "stdout",
     "output_type": "stream",
     "text": [
      "tensor([[0.2828, 0.2428, 0.5132, 0.7704],\n",
      "        [0.3845, 0.5860, 0.0324, 0.3021],\n",
      "        [0.7384, 0.8151, 0.3306, 0.0879],\n",
      "        [0.4642, 0.2409, 0.8530, 0.9072],\n",
      "        [0.8574, 0.1865, 0.6609, 0.4125]])\n"
     ]
    }
   ],
   "source": [
    "random_tensor = torch.rand(5, 4)\n",
    "print(random_tensor)"
   ]
  },
  {
   "cell_type": "code",
   "execution_count": 16,
   "metadata": {},
   "outputs": [
    {
     "name": "stdout",
     "output_type": "stream",
     "text": [
      "tensor([[0.7222, 0.9897, 0.6118],\n",
      "        [0.5643, 0.4092, 0.6259],\n",
      "        [0.0015, 0.9633, 0.0429],\n",
      "        [0.9125, 0.1428, 0.1724]], dtype=torch.float64)\n",
      "\n"
     ]
    }
   ],
   "source": [
    "import numpy as np\n",
    "array = np.random.rand(4, 3)\n",
    "\n",
    "transformed_tensor = torch.from_numpy(array)\n",
    "print(\"{}\\n\".format(transformed_tensor))"
   ]
  },
  {
   "cell_type": "code",
   "execution_count": 17,
   "metadata": {},
   "outputs": [
    {
     "name": "stdout",
     "output_type": "stream",
     "text": [
      "<class 'numpy.ndarray'> [[0.72224268 0.98966482 0.61181629]\n",
      " [0.56429197 0.40922908 0.62586799]\n",
      " [0.00149661 0.96334083 0.04291204]\n",
      " [0.9124734  0.14282782 0.17242882]]\n",
      "\n"
     ]
    }
   ],
   "source": [
    "numpy_arr = transformed_tensor.numpy()\n",
    "print(\"{} {}\\n\".format(type(numpy_arr), numpy_arr))"
   ]
  },
  {
   "cell_type": "code",
   "execution_count": 18,
   "metadata": {},
   "outputs": [
    {
     "name": "stdout",
     "output_type": "stream",
     "text": [
      "tensor([2, 3, 4])\n"
     ]
    }
   ],
   "source": [
    "vector = torch.tensor([1, 2, 3, 4, 5, 6])\n",
    "print(vector[1:4])"
   ]
  },
  {
   "cell_type": "code",
   "execution_count": 19,
   "metadata": {},
   "outputs": [
    {
     "name": "stdout",
     "output_type": "stream",
     "text": [
      "tensor([2, 3, 4, 5, 6])\n"
     ]
    }
   ],
   "source": [
    "print(vector[1:])"
   ]
  },
  {
   "cell_type": "code",
   "execution_count": 21,
   "metadata": {},
   "outputs": [
    {
     "name": "stdout",
     "output_type": "stream",
     "text": [
      "tensor([1., 2., 3., 4., 5., 6.])\n"
     ]
    }
   ],
   "source": [
    "float_vector = torch.FloatTensor([1, 2, 3, 4, 5, 6])\n",
    "print(float_vector)"
   ]
  },
  {
   "cell_type": "code",
   "execution_count": 23,
   "metadata": {},
   "outputs": [
    {
     "name": "stdout",
     "output_type": "stream",
     "text": [
      "torch.float32\n"
     ]
    }
   ],
   "source": [
    "print(float_vector.dtype)"
   ]
  },
  {
   "cell_type": "code",
   "execution_count": 24,
   "metadata": {},
   "outputs": [
    {
     "data": {
      "text/plain": [
       "tensor([5, 7, 9])"
      ]
     },
     "execution_count": 24,
     "metadata": {},
     "output_type": "execute_result"
    }
   ],
   "source": [
    "tensor_1 = torch.tensor([2, 3, 4])\n",
    "tensor_2 = torch.tensor([3, 4, 5])\n",
    "tensor_1 + tensor_2"
   ]
  },
  {
   "cell_type": "code",
   "execution_count": 25,
   "metadata": {},
   "outputs": [
    {
     "data": {
      "text/plain": [
       "tensor([10, 15, 20])"
      ]
     },
     "execution_count": 25,
     "metadata": {},
     "output_type": "execute_result"
    }
   ],
   "source": [
    "tensor_1 * 5"
   ]
  },
  {
   "cell_type": "code",
   "execution_count": 26,
   "metadata": {},
   "outputs": [
    {
     "data": {
      "text/plain": [
       "tensor(38)"
      ]
     },
     "execution_count": 26,
     "metadata": {},
     "output_type": "execute_result"
    }
   ],
   "source": [
    "d_product = torch.dot(tensor_1, tensor_2)\n",
    "d_product"
   ]
  },
  {
   "cell_type": "code",
   "execution_count": 29,
   "metadata": {},
   "outputs": [
    {
     "data": {
      "text/plain": [
       "tensor([[1, 3, 5],\n",
       "        [6, 8, 0]])"
      ]
     },
     "execution_count": 29,
     "metadata": {},
     "output_type": "execute_result"
    }
   ],
   "source": [
    "matrix = torch.tensor([1, 3, 5, 6, 8, 0]).view(2, 3)\n",
    "matrix"
   ]
  },
  {
   "cell_type": "code",
   "execution_count": 31,
   "metadata": {},
   "outputs": [
    {
     "data": {
      "text/plain": [
       "tensor([[1, 3],\n",
       "        [5, 6],\n",
       "        [8, 0]])"
      ]
     },
     "execution_count": 31,
     "metadata": {},
     "output_type": "execute_result"
    }
   ],
   "source": [
    "matrix_b = torch.tensor([1, 3, 5, 6, 8, 0]).view(3, 2)\n",
    "matrix_b"
   ]
  },
  {
   "cell_type": "code",
   "execution_count": 33,
   "metadata": {},
   "outputs": [
    {
     "data": {
      "text/plain": [
       "tensor([[56, 21],\n",
       "        [46, 66]])"
      ]
     },
     "execution_count": 33,
     "metadata": {},
     "output_type": "execute_result"
    }
   ],
   "source": [
    "torch.matmul(matrix, matrix_b)"
   ]
  },
  {
   "cell_type": "code",
   "execution_count": null,
   "metadata": {},
   "outputs": [],
   "source": []
  }
 ],
 "metadata": {
  "kernelspec": {
   "display_name": "Python 3",
   "language": "python",
   "name": "python3"
  },
  "language_info": {
   "codemirror_mode": {
    "name": "ipython",
    "version": 3
   },
   "file_extension": ".py",
   "mimetype": "text/x-python",
   "name": "python",
   "nbconvert_exporter": "python",
   "pygments_lexer": "ipython3",
   "version": "3.6.8"
  }
 },
 "nbformat": 4,
 "nbformat_minor": 2
}
